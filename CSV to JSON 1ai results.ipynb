{
 "metadata": {
  "name": ""
 },
 "nbformat": 3,
 "nbformat_minor": 0,
 "worksheets": [
  {
   "cells": [
    {
     "cell_type": "code",
     "collapsed": false,
     "input": [
      "f = open('shortn/results/1ai.csv')\n",
      "r = f.read()\n",
      "f.close()\n",
      "\n",
      "lines = [l.split(',') for l in r.split('\\r')]\n",
      "out = [{'p': p[0].replace('*', ','), 's': (','.join(p[1:])).split('|')[0].replace('*', ',')} for p in lines if len(p) > 1]\n",
      "\n",
      "d = {}\n",
      "i = 0\n",
      "for o in out: \n",
      "    if o['p'] not in d.keys(): \n",
      "        d[o['p']] = i\n",
      "        i = i + 1\n",
      "for o in out: \n",
      "    o['p'] = d[o['p']]"
     ],
     "language": "python",
     "metadata": {},
     "outputs": [],
     "prompt_number": 7
    },
    {
     "cell_type": "code",
     "collapsed": false,
     "input": [
      "out"
     ],
     "language": "python",
     "metadata": {},
     "outputs": [
      {
       "metadata": {},
       "output_type": "pyout",
       "prompt_number": 8,
       "text": [
        "[{'p': 0,\n",
        "  's': 'I began teaching global development to Swedish undergrads ten years ago. I did a pre-test asking them which countries had the highest child mortality.'},\n",
        " {'p': 0,\n",
        "  's': '10 years ago I created a class called global health at the Karolinska Institute. I gave the students a pretext at the beginning of the course. Some most informative question was: which country has the highest child mortality rate of these pairs.'},\n",
        " {'p': 0,\n",
        "  's': 'After teaching in Africa for 20 years, I began teaching Swedish undergrads at the Karolinska Institute. Not knowing where they were, I offered them a pre-test. '},\n",
        " {'p': 1,\n",
        "  's': 'Using a narrow confidence interval, I found high child mortality rates in Turkey, Poland, Russia, pakistan, and South Africa. '},\n",
        " {'p': 1,\n",
        "  's': 'In order to understand the inner and outer workings of the system, you have to see the different parts of the system that make up the whole system. Once you put all of the parts together, you have the system in its entirety.'},\n",
        " {'p': 1,\n",
        "  's': 'I paired the countries so that each pair has one pair with twice the child mortality rate of the other.'},\n",
        " {'p': 2,\n",
        "  's': 'Chimps could score better than the best of Swedish students. '},\n",
        " {'p': 2,\n",
        "  's': \"I realized that Chimpanzees are smarter than Swedish Students because if given two bananas with Sri Lanka and Turkey, they'd be right half the time.\"},\n",
        " {'p': 2,\n",
        "  's': 'I have shown that Swedish top students know less about the world than the chimpanzees. The chimpanzees are right in half the cases.'},\n",
        " {'p': 3,\n",
        "  's': 'The students are not there. The problem was preconceived ideas.'},\n",
        " {'p': 3,\n",
        "  's': 'The problem was that the students did not approach the question objectively.'},\n",
        " {'p': 3,\n",
        "  's': 'The students are gone, and the problem is preconceived ideas rather than ignorance. '},\n",
        " {'p': 4,\n",
        "  's': \"The professors of the Karolinska Institute that hands out Medicine's Nobel Prize are almost he equivalent of chimps. Communication surrounding data needs to improve. \"},\n",
        " {'p': 4,\n",
        "  's': \"I studied the professors of the Karolinska Institute. They need to communicate the data of what's happening in the world and the health of children in every country.\"},\n",
        " {'p': 4,\n",
        "  's': \"I also showed that the professors of the Karolinska Institute are on par with the chimpanzees. There is a great need to communicate the data of what's happening in the world.\"},\n",
        " {'p': 5,\n",
        "  's': 'We used a software the displayed the countries as bubbles, with the size displaying the population and the fertility rate. The students saw the world as divided into the Western world and the Third World. Western world has long lives and small families while Third World has short lives and large families.'},\n",
        " {'p': 5,\n",
        "  's': 'On software we displayed a graph which represented the population and fertility rate of China and India.  My students looked at the graph and identified themselves as Western world citizens, with small population and low fertility rate, and the Third World as large population due to large family size. '},\n",
        " {'p': 5,\n",
        "  's': 'There is a large differences seen by students who notice the western world has long lives and small families while the Third World has short lives and large families. '},\n",
        " {'p': 6,\n",
        "  's': \"We've been studying data on the size of families in all countries since about 1960. In 1962 industrial countries had smaller families and longer lives while developing countries had larger families and shorter lives. The question is: what has changed since 1962?\"},\n",
        " {'p': 6,\n",
        "  's': 'In 1962, people in industrialized countries had small families and long lives. People in developing countries had large families and short lives. Now this is changing.'},\n",
        " {'p': 6,\n",
        "  's': 'Since 1962 there is very good data surrounding family size. Developed countries tend to have small families and long lives, while developing countries have larger families and shorter lives. '},\n",
        " {'p': 7,\n",
        "  's': 'Several countries have differing trends regarding family size and life expectancy. HIV had an especially large impact in Africa. '},\n",
        " {'p': 7,\n",
        "  's': 'Many countries, but not the African countries, now have changed so that they have longer lives and smaller families. It is a completely new world.'},\n",
        " {'p': 7,\n",
        "  's': 'Since the 1980s, shifts have been happening in Latin America, Asia and Africa towards smaller families and longer life spans.'},\n",
        " {'p': 8,\n",
        "  's': 'Family planning started in Vietnam in 1964, and now, families are smaller and life expectancy is longer, much like is now seen in the United States.'},\n",
        " {'p': 8,\n",
        "  's': 'In Vietnam, social change occurred before economical change. Vietnam went from having large families and short lives prior to the Vietnam war to having smaller families and longer lives today.'},\n",
        " {'p': 8,\n",
        "  's': 'Despite the Vietnam war, the introduction of family planning practices to the area improved life expectancy and decreased family size. '},\n",
        " {'p': 9,\n",
        "  's': \"There is no gap between the rich and the poor anymore.  Most of the world's population is found in the middle class, not the richest or poorest classes.\"},\n",
        " {'p': 9,\n",
        "  's': 'There is a huge middle class in the world now, but the top 20% have 74% of the wealth and the poorest 20% of people only have 2% of wealth. '},\n",
        " {'p': 9,\n",
        "  's': \"The gap between rich and poor is a myth these days. 74% of the world's income goes to the richest 20% of the world's population. The poorest 20% gets only 2%. The middle , where most people are ,gets 24% of the worlds income\"},\n",
        " {'p': 10,\n",
        "  's': 'If we look at Asia, Latin America, and Africa, we find differences in the number of people who live in poverty.  In the future, some will move up and others will move down into poverty; the middle class will be the largest.'},\n",
        " {'p': 10,\n",
        "  's': 'Unlike in the past, when as the population of the world grew the number of people living poverty grew, we now have people who are becoming less poor and more poor. There is no division between rich and poor any more. Most people lie in the middle,between rich and poor.'},\n",
        " {'p': 10,\n",
        "  's': \"Despite extreme differences in wealth and poverty around the world, the World Bank projects that the world will grow to have a huge middle class containing most of the world's people. \"}]"
       ]
      }
     ],
     "prompt_number": 8
    },
    {
     "cell_type": "code",
     "collapsed": false,
     "input": [
      "f = open('shortn/results/1ai.json', 'w')\n",
      "import json\n",
      "f.write(json.dumps(out))\n",
      "f.close()"
     ],
     "language": "python",
     "metadata": {},
     "outputs": [],
     "prompt_number": 9
    },
    {
     "cell_type": "code",
     "collapsed": false,
     "input": [],
     "language": "python",
     "metadata": {},
     "outputs": []
    }
   ],
   "metadata": {}
  }
 ]
}