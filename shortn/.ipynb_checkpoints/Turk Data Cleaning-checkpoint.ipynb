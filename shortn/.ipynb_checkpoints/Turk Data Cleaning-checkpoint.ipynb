{
 "metadata": {
  "name": ""
 },
 "nbformat": 3,
 "nbformat_minor": 0,
 "worksheets": [
  {
   "cells": [
    {
     "cell_type": "code",
     "collapsed": false,
     "input": [
      "f = open('results/mturk_extractive_ex1.csv')\n",
      "r = f.read()\n",
      "f.close()"
     ],
     "language": "python",
     "metadata": {},
     "outputs": [],
     "prompt_number": 16
    },
    {
     "cell_type": "code",
     "collapsed": false,
     "input": [
      "answers = [k.split(',')[len(k.split(','))-3] for k in r.split('\\r')]\n",
      "answers = answers[1:]\n",
      "new = [a.strip(\"Recorded*\") for a in answers]\n",
      "new = [a.strip('|') for a in new]\n",
      "new = [a.split('*') for a in new]\n",
      "new = [[m.strip(\"|Recorded\") for m in a if ':' in m] for a in new]\n",
      "new = [list(set([k[:8].strip(' ') for k in a])) for a in new]\n"
     ],
     "language": "python",
     "metadata": {},
     "outputs": [],
     "prompt_number": 17
    },
    {
     "cell_type": "code",
     "collapsed": false,
     "input": [
      "new = [[[int(k.split(\":\")[0]),int(k.split(\":\")[1])] for k in a] for a in new]\n"
     ],
     "language": "python",
     "metadata": {},
     "outputs": [],
     "prompt_number": 18
    },
    {
     "cell_type": "code",
     "collapsed": false,
     "input": [
      "new"
     ],
     "language": "python",
     "metadata": {},
     "outputs": [
      {
       "metadata": {},
       "output_type": "pyout",
       "prompt_number": 19,
       "text": [
        "[[[102, 266], [659, 793]],\n",
        " [[726, 792], [267, 375]],\n",
        " [[436, 547], [658, 793]],\n",
        " [[102, 266], [659, 793]],\n",
        " [[0, 102], [659, 793]],\n",
        " [[437, 622], [267, 375]],\n",
        " [[306, 357], [494, 594]],\n",
        " [[189, 305], [0, 105]],\n",
        " [[106, 189], [358, 493]],\n",
        " [[4, 105], [110, 188]],\n",
        " [[58, 188], [494, 593]],\n",
        " [[106, 189], [358, 493]],\n",
        " [[767, 929], [0, 83]],\n",
        " [[89, 174], [0, 83]],\n",
        " [[0, 83], [487, 614]],\n",
        " [[768, 929], [0, 83]],\n",
        " [[769, 929], [0, 174]],\n",
        " [[88, 174], [614, 768]],\n",
        " [[404, 498], [189, 248]],\n",
        " [[0, 102], [833, 944]],\n",
        " [[833, 944], [669, 712]],\n",
        " [[670, 711], [832, 944]],\n",
        " [[712, 832], [399, 670]],\n",
        " [[500, 669], [833, 944]]]"
       ]
      }
     ],
     "prompt_number": 19
    },
    {
     "cell_type": "code",
     "collapsed": false,
     "input": [
      "f = open('results/mturk_find_ex1.csv')\n",
      "r = f.read()\n",
      "f.close()"
     ],
     "language": "python",
     "metadata": {},
     "outputs": [],
     "prompt_number": 28
    },
    {
     "cell_type": "code",
     "collapsed": false,
     "input": [
      "answers = [k.split(',')[len(k.split(','))-3] for k in r.split('\\r')]\n",
      "answers = answers[1:]\n",
      "new = [a.strip(\"Recorded*\") for a in answers]\n",
      "new = [a.split('|')[0] for a in new]\n",
      "new = [a.split('*') for a in new]\n",
      "new = [[[int(k.split(\":\")[0]),int(k.split(\":\")[1])] for k in a] for a in new]\n"
     ],
     "language": "python",
     "metadata": {},
     "outputs": [],
     "prompt_number": 39
    },
    {
     "cell_type": "code",
     "collapsed": false,
     "input": [
      "new"
     ],
     "language": "python",
     "metadata": {},
     "outputs": [
      {
       "metadata": {},
       "output_type": "pyout",
       "prompt_number": 40,
       "text": [
        "[[[376, 436], [266, 270], [144, 179], [216, 224], [463, 475], [550, 564]],\n",
        " [[102, 111], [207, 209], [266, 270], [376, 436], [550, 564]],\n",
        " [[216, 223], [266, 270], [553, 564], [659, 662]],\n",
        " [[101, 266], [101, 266], [623, 793]],\n",
        " [[437, 658], [102, 267]],\n",
        " [[102, 436]],\n",
        " [[0, 5],\n",
        "  [105, 109],\n",
        "  [189, 231],\n",
        "  [238, 244],\n",
        "  [255, 263],\n",
        "  [306, 309],\n",
        "  [401, 451]],\n",
        " [[358, 493], [222, 306]],\n",
        " [[0, 105], [305, 493]],\n",
        " [[0, 3],\n",
        "  [92, 104],\n",
        "  [106, 110],\n",
        "  [306, 310],\n",
        "  [225, 231],\n",
        "  [238, 245],\n",
        "  [261, 306],\n",
        "  [399, 451]],\n",
        " [[189, 221], [220, 224], [425, 440]],\n",
        " [[0, 105], [189, 357]],\n",
        " [[25, 34],\n",
        "  [332, 335],\n",
        "  [374, 380],\n",
        "  [407, 410],\n",
        "  [428, 437],\n",
        "  [448, 452],\n",
        "  [818, 821]],\n",
        " [[0, 307], [407, 614]],\n",
        " [[175, 199], [371, 405], [429, 437], [695, 717], [786, 814]],\n",
        " [[307, 929]],\n",
        " [[89, 174], [625, 767]],\n",
        " [[174, 200], [24, 33], [591, 613], [633, 645], [744, 766], [782, 820]],\n",
        " [[60, 65], [103, 128], [152, 157], [189, 206], [285, 500]],\n",
        " [[103, 127], [0, 10], [436, 482], [944, 1038]],\n",
        " [[103, 357], [400, 669]],\n",
        " [[103, 129], [250, 284], [331, 500], [0, 3]],\n",
        " [[499, 669], [833, 944]],\n",
        " [[833, 945], [103, 668]]]"
       ]
      }
     ],
     "prompt_number": 40
    },
    {
     "cell_type": "code",
     "collapsed": false,
     "input": [],
     "language": "python",
     "metadata": {},
     "outputs": []
    }
   ],
   "metadata": {}
  }
 ]
}